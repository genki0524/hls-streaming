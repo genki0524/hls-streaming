{
 "cells": [
  {
   "cell_type": "code",
   "execution_count": 1,
   "id": "cf8700e5",
   "metadata": {},
   "outputs": [],
   "source": [
    "import firebase_admin\n",
    "from firebase_admin import credentials\n",
    "from firebase_admin import firestore\n",
    "from dotenv import load_dotenv\n",
    "import os\n",
    "import datetime\n",
    "\n",
    "load_dotenv()\n",
    "\n",
    "cred = credentials.Certificate(os.getenv(\"FIRESTORE_CREDENTIAL\"))\n",
    "app = firebase_admin.initialize_app(cred)\n",
    "db = firestore.client()"
   ]
  },
  {
   "cell_type": "code",
   "execution_count": 5,
   "id": "c15bf495",
   "metadata": {},
   "outputs": [
    {
     "data": {
      "text/plain": [
       "update_time {\n",
       "  seconds: 1754832810\n",
       "  nanos: 27724000\n",
       "}"
      ]
     },
     "execution_count": 5,
     "metadata": {},
     "output_type": "execute_result"
    }
   ],
   "source": [
    "today_string = datetime.date.today().strftime('%Y-%m-%d')\n",
    "\n",
    "doc_ref = db.collection(\"schedules\").document(today_string)\n",
    "\n",
    "programs = [{ \n",
    "    \"start_time\": \"2025-08-09T18:06:00+09:00\",\n",
    "    \"duration_sec\": 60,\n",
    "    \"type\": \"VOD\",\n",
    "    \"path_template\": \"static/stream/hoooope-2025-01-15-copy/video{}.ts\"\n",
    "  },\n",
    "  {\n",
    "    \"start_time\": \"2025-08-09T18:08:00+09:00\",\n",
    "    \"duration_sec\": 60,\n",
    "    \"type\": \"VOD\",\n",
    "    \"path_template\": \"static/stream/hoooope-2025-01-16-copy/video{}.ts\"\n",
    "  }]\n",
    "doc_ref.set(\n",
    "  {\"programs\" : programs}\n",
    ")"
   ]
  },
  {
   "cell_type": "code",
   "execution_count": null,
   "id": "3f487cff",
   "metadata": {},
   "outputs": [],
   "source": []
  }
 ],
 "metadata": {
  "kernelspec": {
   "display_name": "streaming_server",
   "language": "python",
   "name": "python3"
  },
  "language_info": {
   "codemirror_mode": {
    "name": "ipython",
    "version": 3
   },
   "file_extension": ".py",
   "mimetype": "text/x-python",
   "name": "python",
   "nbconvert_exporter": "python",
   "pygments_lexer": "ipython3",
   "version": "3.10.11"
  }
 },
 "nbformat": 4,
 "nbformat_minor": 5
}
